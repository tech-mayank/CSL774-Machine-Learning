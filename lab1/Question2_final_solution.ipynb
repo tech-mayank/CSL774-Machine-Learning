{
 "cells": [
  {
   "cell_type": "code",
   "execution_count": 1,
   "metadata": {},
   "outputs": [],
   "source": [
    "# importing the required packages\n",
    "import pandas as pd\n",
    "import numpy as np\n",
    "import matplotlib.pyplot as plt\n",
    "import datetime as dt\n",
    "%matplotlib inline"
   ]
  },
  {
   "cell_type": "code",
   "execution_count": 2,
   "metadata": {},
   "outputs": [],
   "source": [
    "df = pd.read_csv('Mart.csv')"
   ]
  },
  {
   "cell_type": "code",
   "execution_count": 3,
   "metadata": {},
   "outputs": [
    {
     "data": {
      "text/html": [
       "<div>\n",
       "<style scoped>\n",
       "    .dataframe tbody tr th:only-of-type {\n",
       "        vertical-align: middle;\n",
       "    }\n",
       "\n",
       "    .dataframe tbody tr th {\n",
       "        vertical-align: top;\n",
       "    }\n",
       "\n",
       "    .dataframe thead th {\n",
       "        text-align: right;\n",
       "    }\n",
       "</style>\n",
       "<table border=\"1\" class=\"dataframe\">\n",
       "  <thead>\n",
       "    <tr style=\"text-align: right;\">\n",
       "      <th></th>\n",
       "      <th>Store</th>\n",
       "      <th>Date</th>\n",
       "      <th>Weekly_Sales</th>\n",
       "      <th>Holiday_Flag</th>\n",
       "      <th>Temperature</th>\n",
       "      <th>Fuel_Price</th>\n",
       "      <th>CPI</th>\n",
       "      <th>Unemployment</th>\n",
       "    </tr>\n",
       "  </thead>\n",
       "  <tbody>\n",
       "    <tr>\n",
       "      <th>0</th>\n",
       "      <td>1</td>\n",
       "      <td>05-02-2010</td>\n",
       "      <td>1643690.90</td>\n",
       "      <td>0</td>\n",
       "      <td>42.31</td>\n",
       "      <td>2.572</td>\n",
       "      <td>211.096358</td>\n",
       "      <td>8.106</td>\n",
       "    </tr>\n",
       "    <tr>\n",
       "      <th>1</th>\n",
       "      <td>1</td>\n",
       "      <td>12-02-2010</td>\n",
       "      <td>1641957.44</td>\n",
       "      <td>1</td>\n",
       "      <td>38.51</td>\n",
       "      <td>2.548</td>\n",
       "      <td>211.242170</td>\n",
       "      <td>8.106</td>\n",
       "    </tr>\n",
       "    <tr>\n",
       "      <th>2</th>\n",
       "      <td>1</td>\n",
       "      <td>19-02-2010</td>\n",
       "      <td>1611968.17</td>\n",
       "      <td>0</td>\n",
       "      <td>39.93</td>\n",
       "      <td>2.514</td>\n",
       "      <td>211.289143</td>\n",
       "      <td>8.106</td>\n",
       "    </tr>\n",
       "    <tr>\n",
       "      <th>3</th>\n",
       "      <td>1</td>\n",
       "      <td>26-02-2010</td>\n",
       "      <td>1409727.59</td>\n",
       "      <td>0</td>\n",
       "      <td>46.63</td>\n",
       "      <td>2.561</td>\n",
       "      <td>211.319643</td>\n",
       "      <td>8.106</td>\n",
       "    </tr>\n",
       "    <tr>\n",
       "      <th>4</th>\n",
       "      <td>1</td>\n",
       "      <td>05-03-2010</td>\n",
       "      <td>1554806.68</td>\n",
       "      <td>0</td>\n",
       "      <td>46.50</td>\n",
       "      <td>2.625</td>\n",
       "      <td>211.350143</td>\n",
       "      <td>8.106</td>\n",
       "    </tr>\n",
       "  </tbody>\n",
       "</table>\n",
       "</div>"
      ],
      "text/plain": [
       "   Store        Date  Weekly_Sales  Holiday_Flag  Temperature  Fuel_Price  \\\n",
       "0      1  05-02-2010    1643690.90             0        42.31       2.572   \n",
       "1      1  12-02-2010    1641957.44             1        38.51       2.548   \n",
       "2      1  19-02-2010    1611968.17             0        39.93       2.514   \n",
       "3      1  26-02-2010    1409727.59             0        46.63       2.561   \n",
       "4      1  05-03-2010    1554806.68             0        46.50       2.625   \n",
       "\n",
       "          CPI  Unemployment  \n",
       "0  211.096358         8.106  \n",
       "1  211.242170         8.106  \n",
       "2  211.289143         8.106  \n",
       "3  211.319643         8.106  \n",
       "4  211.350143         8.106  "
      ]
     },
     "execution_count": 3,
     "metadata": {},
     "output_type": "execute_result"
    }
   ],
   "source": [
    "df.head()"
   ]
  },
  {
   "cell_type": "code",
   "execution_count": 6,
   "metadata": {},
   "outputs": [
    {
     "name": "stdout",
     "output_type": "stream",
     "text": [
      "<class 'pandas.core.frame.DataFrame'>\n",
      "RangeIndex: 6435 entries, 0 to 6434\n",
      "Data columns (total 8 columns):\n",
      " #   Column        Non-Null Count  Dtype  \n",
      "---  ------        --------------  -----  \n",
      " 0   Store         6435 non-null   int64  \n",
      " 1   Date          6435 non-null   object \n",
      " 2   Weekly_Sales  6435 non-null   float64\n",
      " 3   Holiday_Flag  6435 non-null   int64  \n",
      " 4   Temperature   6435 non-null   float64\n",
      " 5   Fuel_Price    6435 non-null   float64\n",
      " 6   CPI           6435 non-null   float64\n",
      " 7   Unemployment  6435 non-null   float64\n",
      "dtypes: float64(5), int64(2), object(1)\n",
      "memory usage: 402.3+ KB\n"
     ]
    }
   ],
   "source": [
    "# to check if there is any null values in the data\n",
    "df.info()"
   ]
  },
  {
   "cell_type": "markdown",
   "metadata": {},
   "source": [
    "## 1. Which store has maximum sales"
   ]
  },
  {
   "cell_type": "code",
   "execution_count": 7,
   "metadata": {},
   "outputs": [],
   "source": [
    "s = df[df[\"Store\"] == 1][\"Weekly_Sales\"].sum()"
   ]
  },
  {
   "cell_type": "code",
   "execution_count": 8,
   "metadata": {},
   "outputs": [],
   "source": [
    "sales = {}\n",
    "for i in range(1,46):\n",
    "    sales[i] = df[df[\"Store\"] == i][\"Weekly_Sales\"].sum()"
   ]
  },
  {
   "cell_type": "code",
   "execution_count": 9,
   "metadata": {},
   "outputs": [
    {
     "data": {
      "text/plain": [
       "{1: 222402808.85,\n",
       " 2: 275382440.97999996,\n",
       " 3: 57586735.06999999,\n",
       " 4: 299543953.38,\n",
       " 5: 45475688.900000006,\n",
       " 6: 223756130.64000002,\n",
       " 7: 81598275.14,\n",
       " 8: 129951181.12999998,\n",
       " 9: 77789218.99000001,\n",
       " 10: 271617713.89,\n",
       " 11: 193962786.8,\n",
       " 12: 144287230.15,\n",
       " 13: 286517703.8,\n",
       " 14: 288999911.34000003,\n",
       " 15: 89133683.92,\n",
       " 16: 74252425.39999999,\n",
       " 17: 127782138.83000003,\n",
       " 18: 155114734.21000004,\n",
       " 19: 206634862.09999996,\n",
       " 20: 301397792.46000004,\n",
       " 21: 108117878.91999999,\n",
       " 22: 147075648.57,\n",
       " 23: 198750617.85000002,\n",
       " 24: 194016021.28000003,\n",
       " 25: 101061179.16999999,\n",
       " 26: 143416393.79,\n",
       " 27: 253855916.88,\n",
       " 28: 189263680.57999998,\n",
       " 29: 77141554.30999999,\n",
       " 30: 62716885.120000005,\n",
       " 31: 199613905.5,\n",
       " 32: 166819246.16000003,\n",
       " 33: 37160221.95999999,\n",
       " 34: 138249763.0,\n",
       " 35: 131520672.08,\n",
       " 36: 53412214.97,\n",
       " 37: 74202740.32,\n",
       " 38: 55159626.42,\n",
       " 39: 207445542.46999997,\n",
       " 40: 137870309.79,\n",
       " 41: 181341934.89,\n",
       " 42: 79565752.42999999,\n",
       " 43: 90565435.41,\n",
       " 44: 43293087.84,\n",
       " 45: 112395341.42000002}"
      ]
     },
     "execution_count": 9,
     "metadata": {},
     "output_type": "execute_result"
    }
   ],
   "source": [
    "sales"
   ]
  },
  {
   "cell_type": "code",
   "execution_count": 10,
   "metadata": {},
   "outputs": [
    {
     "name": "stdout",
     "output_type": "stream",
     "text": [
      "20\n"
     ]
    }
   ],
   "source": [
    "mx = 0\n",
    "store = 0\n",
    "for k in sales.items():\n",
    "    if(k[1] > mx):\n",
    "        mx = k[1]\n",
    "        store = k[0]\n",
    "print(store)"
   ]
  },
  {
   "cell_type": "markdown",
   "metadata": {},
   "source": [
    "### so store 20 has maximum sales"
   ]
  },
  {
   "cell_type": "markdown",
   "metadata": {},
   "source": [
    "## 2. Which store has maximum standard deviation i.e., the sales vary a lot. Also, find out the coefficient of mean to standard deviation (coefficient of variation)"
   ]
  },
  {
   "cell_type": "code",
   "execution_count": 11,
   "metadata": {},
   "outputs": [
    {
     "data": {
      "text/plain": [
       "45"
      ]
     },
     "execution_count": 11,
     "metadata": {},
     "output_type": "execute_result"
    }
   ],
   "source": [
    "# total number of stores\n",
    "df[\"Store\"].nunique()"
   ]
  },
  {
   "cell_type": "code",
   "execution_count": 13,
   "metadata": {},
   "outputs": [
    {
     "name": "stdout",
     "output_type": "stream",
     "text": [
      "The Coefficient of variations for stores are as follows :\n",
      "1 10.02921226813075\n",
      "2 12.34238763319183\n",
      "3 11.502140735338804\n",
      "4 12.708253937002839\n",
      "5 11.866844091939742\n",
      "6 13.582285902663829\n",
      "7 19.730468653665728\n",
      "8 11.695283213906869\n",
      "9 12.689546764678369\n",
      "10 15.913349066639102\n",
      "11 12.22618336004468\n",
      "12 13.792532199977735\n",
      "13 13.251362792719142\n",
      "14 15.713673600948338\n",
      "15 19.33839877822955\n",
      "16 16.51806549478143\n",
      "17 12.552067141232682\n",
      "18 16.28454974226666\n",
      "19 13.26801153482639\n",
      "20 13.090268561738489\n",
      "21 17.029239217349453\n",
      "22 15.678287578148591\n",
      "23 17.9721149197535\n",
      "24 12.363737661375541\n",
      "25 15.98604024072346\n",
      "26 11.011066299216315\n",
      "27 13.515544496695316\n",
      "28 13.73297416512492\n",
      "29 18.374246746816343\n",
      "30 5.2008038555445175\n",
      "31 9.016105262945947\n",
      "32 11.831049176166283\n",
      "33 9.286835290692942\n",
      "34 10.82252383219858\n",
      "35 22.968111389976414\n",
      "36 16.25789124577327\n",
      "37 4.208411895180792\n",
      "38 11.087544692154392\n",
      "39 14.990779108026006\n",
      "40 12.342978096269446\n",
      "41 14.817711243560769\n",
      "42 9.03353280932982\n",
      "43 6.4103629270192375\n",
      "44 8.179331054568062\n",
      "45 16.561272979512935\n",
      "The store having maximum standard deviation is : 14 With standard deviation 317569.9494755083\n",
      "The store having minimum standard deviation is : 37 With standard deviation 21837.4611900489\n"
     ]
    }
   ],
   "source": [
    "# calculating the coefficient of variation and store having maximum and minimum standard deviation\n",
    "mx_std_dev = 0;\n",
    "mn_std_dev = 1000000000;\n",
    "mx_store = 0\n",
    "mn_store = 0\n",
    "coeff = 0\n",
    "print(\"The Coefficient of variations for stores are as follows :\")\n",
    "for i in range(1,46):\n",
    "    std = df[df[\"Store\"] == i].std()[1]\n",
    "    mean = df[df[\"Store\"] == i].mean()[1]\n",
    "    if(std > mx_std_dev):\n",
    "        mx_std_dev = std\n",
    "        mx_store = i\n",
    "    if(std < mn_std_dev):\n",
    "        mn_std_dev = std\n",
    "        mn_store = i\n",
    "    coeff = (std/mean) *100\n",
    "    print(i,coeff)\n",
    "print(\"The store having maximum standard deviation is :\",mx_store,\"With standard deviation\",mx_std_dev)\n",
    "print(\"The store having minimum standard deviation is :\",mn_store,\"With standard deviation\",mn_std_dev)"
   ]
  },
  {
   "cell_type": "markdown",
   "metadata": {},
   "source": [
    "### The store having maximum standard deviation is : 14 With standard deviation 317569.9494755083\n",
    "### The store having minimum standard deviation is : 37 With standard deviation 21837.4611900489"
   ]
  },
  {
   "cell_type": "markdown",
   "metadata": {},
   "source": [
    "## 3. Some holidays have a negative impact on sales. Find out holidays which have higher sales than the mean sales in non-holiday season for all stores together"
   ]
  },
  {
   "cell_type": "code",
   "execution_count": 14,
   "metadata": {},
   "outputs": [],
   "source": [
    "# mean sales of non holiday season for all stores together\n",
    "mean_non_holiday = df[df[\"Holiday_Flag\"] == 0].mean()[1]"
   ]
  },
  {
   "cell_type": "code",
   "execution_count": 15,
   "metadata": {},
   "outputs": [
    {
     "data": {
      "text/plain": [
       "1041256.3802088555"
      ]
     },
     "execution_count": 15,
     "metadata": {},
     "output_type": "execute_result"
    }
   ],
   "source": [
    "mean_non_holiday"
   ]
  },
  {
   "cell_type": "code",
   "execution_count": 18,
   "metadata": {},
   "outputs": [
    {
     "name": "stdout",
     "output_type": "stream",
     "text": [
      "holiday Season :  12-02-2010 || Sales :  1074148.3917777783\n",
      "holiday Season :  11-02-2011 || Sales :  1051915.3953333334\n",
      "holiday Season :  10-02-2012 || Sales :  1111320.176\n",
      "holiday Season :  07-09-2012 || Sales :  1074001.318\n",
      "holiday Season :  26-11-2010 || Sales :  1462688.960888889\n"
     ]
    }
   ],
   "source": [
    "# calculating the sales of different holiday seasons which have sales more than the mean sales of non holiday season\n",
    "l = [\"12-02-2010\",\"11-02-2011\",\"10-02-2012\",\"10-09-2010\",\"09-09-2011\",\"07-09-2012\",\"26-11-2010\",\"31-12-2010\",\"30-12-2011\"]\n",
    "for i in l:\n",
    "    sales_holiday_stores = df[df[\"Date\"] == i][\"Weekly_Sales\"].mean()\n",
    "    if(sales_holiday_stores > mean_non_holiday):\n",
    "        print(\"holiday Season : \",i,\"||\",\"Sales : \",sales_holiday_stores)"
   ]
  },
  {
   "cell_type": "markdown",
   "metadata": {},
   "source": [
    "## 4. Provide a monthly and 6 month view of sales in units and give insights"
   ]
  },
  {
   "cell_type": "code",
   "execution_count": 21,
   "metadata": {},
   "outputs": [],
   "source": [
    "# adding month and year column\n",
    "df['Month'] = df[\"Date\"].apply(lambda x : x.split('-')[1])\n",
    "df['Year'] = df[\"Date\"].apply(lambda x : x.split('-')[2])"
   ]
  },
  {
   "cell_type": "code",
   "execution_count": 22,
   "metadata": {},
   "outputs": [
    {
     "data": {
      "text/html": [
       "<div>\n",
       "<style scoped>\n",
       "    .dataframe tbody tr th:only-of-type {\n",
       "        vertical-align: middle;\n",
       "    }\n",
       "\n",
       "    .dataframe tbody tr th {\n",
       "        vertical-align: top;\n",
       "    }\n",
       "\n",
       "    .dataframe thead th {\n",
       "        text-align: right;\n",
       "    }\n",
       "</style>\n",
       "<table border=\"1\" class=\"dataframe\">\n",
       "  <thead>\n",
       "    <tr style=\"text-align: right;\">\n",
       "      <th></th>\n",
       "      <th>Store</th>\n",
       "      <th>Date</th>\n",
       "      <th>Weekly_Sales</th>\n",
       "      <th>Holiday_Flag</th>\n",
       "      <th>Temperature</th>\n",
       "      <th>Fuel_Price</th>\n",
       "      <th>CPI</th>\n",
       "      <th>Unemployment</th>\n",
       "      <th>Month</th>\n",
       "      <th>Year</th>\n",
       "    </tr>\n",
       "  </thead>\n",
       "  <tbody>\n",
       "    <tr>\n",
       "      <th>0</th>\n",
       "      <td>1</td>\n",
       "      <td>05-02-2010</td>\n",
       "      <td>1643690.90</td>\n",
       "      <td>0</td>\n",
       "      <td>42.31</td>\n",
       "      <td>2.572</td>\n",
       "      <td>211.096358</td>\n",
       "      <td>8.106</td>\n",
       "      <td>02</td>\n",
       "      <td>2010</td>\n",
       "    </tr>\n",
       "    <tr>\n",
       "      <th>1</th>\n",
       "      <td>1</td>\n",
       "      <td>12-02-2010</td>\n",
       "      <td>1641957.44</td>\n",
       "      <td>1</td>\n",
       "      <td>38.51</td>\n",
       "      <td>2.548</td>\n",
       "      <td>211.242170</td>\n",
       "      <td>8.106</td>\n",
       "      <td>02</td>\n",
       "      <td>2010</td>\n",
       "    </tr>\n",
       "    <tr>\n",
       "      <th>2</th>\n",
       "      <td>1</td>\n",
       "      <td>19-02-2010</td>\n",
       "      <td>1611968.17</td>\n",
       "      <td>0</td>\n",
       "      <td>39.93</td>\n",
       "      <td>2.514</td>\n",
       "      <td>211.289143</td>\n",
       "      <td>8.106</td>\n",
       "      <td>02</td>\n",
       "      <td>2010</td>\n",
       "    </tr>\n",
       "    <tr>\n",
       "      <th>3</th>\n",
       "      <td>1</td>\n",
       "      <td>26-02-2010</td>\n",
       "      <td>1409727.59</td>\n",
       "      <td>0</td>\n",
       "      <td>46.63</td>\n",
       "      <td>2.561</td>\n",
       "      <td>211.319643</td>\n",
       "      <td>8.106</td>\n",
       "      <td>02</td>\n",
       "      <td>2010</td>\n",
       "    </tr>\n",
       "    <tr>\n",
       "      <th>4</th>\n",
       "      <td>1</td>\n",
       "      <td>05-03-2010</td>\n",
       "      <td>1554806.68</td>\n",
       "      <td>0</td>\n",
       "      <td>46.50</td>\n",
       "      <td>2.625</td>\n",
       "      <td>211.350143</td>\n",
       "      <td>8.106</td>\n",
       "      <td>03</td>\n",
       "      <td>2010</td>\n",
       "    </tr>\n",
       "  </tbody>\n",
       "</table>\n",
       "</div>"
      ],
      "text/plain": [
       "   Store        Date  Weekly_Sales  Holiday_Flag  Temperature  Fuel_Price  \\\n",
       "0      1  05-02-2010    1643690.90             0        42.31       2.572   \n",
       "1      1  12-02-2010    1641957.44             1        38.51       2.548   \n",
       "2      1  19-02-2010    1611968.17             0        39.93       2.514   \n",
       "3      1  26-02-2010    1409727.59             0        46.63       2.561   \n",
       "4      1  05-03-2010    1554806.68             0        46.50       2.625   \n",
       "\n",
       "          CPI  Unemployment Month  Year  \n",
       "0  211.096358         8.106    02  2010  \n",
       "1  211.242170         8.106    02  2010  \n",
       "2  211.289143         8.106    02  2010  \n",
       "3  211.319643         8.106    02  2010  \n",
       "4  211.350143         8.106    03  2010  "
      ]
     },
     "execution_count": 22,
     "metadata": {},
     "output_type": "execute_result"
    }
   ],
   "source": [
    "df.head()"
   ]
  },
  {
   "cell_type": "code",
   "execution_count": 23,
   "metadata": {},
   "outputs": [],
   "source": [
    "# making year list\n",
    "year_list = df[\"Year\"].unique().tolist()"
   ]
  },
  {
   "cell_type": "code",
   "execution_count": 24,
   "metadata": {},
   "outputs": [
    {
     "data": {
      "text/plain": [
       "['2010', '2011', '2012']"
      ]
     },
     "execution_count": 24,
     "metadata": {},
     "output_type": "execute_result"
    }
   ],
   "source": [
    "year_list"
   ]
  },
  {
   "cell_type": "code",
   "execution_count": 28,
   "metadata": {},
   "outputs": [],
   "source": [
    "# making monthly list\n",
    "month_list = df[\"Month\"].unique().tolist()"
   ]
  },
  {
   "cell_type": "code",
   "execution_count": 29,
   "metadata": {},
   "outputs": [
    {
     "data": {
      "text/plain": [
       "['02', '03', '04', '05', '06', '07', '08', '09', '10', '11', '12', '01']"
      ]
     },
     "execution_count": 29,
     "metadata": {},
     "output_type": "execute_result"
    }
   ],
   "source": [
    "month_list"
   ]
  },
  {
   "cell_type": "code",
   "execution_count": 30,
   "metadata": {},
   "outputs": [],
   "source": [
    "# calculating the monthly sales\n",
    "monthly_sales = {}\n",
    "for i in year_list:\n",
    "    for j in month_list:\n",
    "        monthly_sales[j+\"-\"+i] = df[(df[\"Month\"] == j) & (df[\"Year\"] == i)][\"Weekly_Sales\"].sum()"
   ]
  },
  {
   "cell_type": "markdown",
   "metadata": {},
   "source": [
    "### tabular data for monthly sales"
   ]
  },
  {
   "cell_type": "code",
   "execution_count": 31,
   "metadata": {},
   "outputs": [
    {
     "data": {
      "text/plain": [
       "{'02-2010': 190332983.04000002,\n",
       " '03-2010': 181919802.5,\n",
       " '04-2010': 231412368.05,\n",
       " '05-2010': 186710934.34000003,\n",
       " '06-2010': 192246172.36,\n",
       " '07-2010': 232580125.98,\n",
       " '08-2010': 187640110.89,\n",
       " '09-2010': 177267896.37,\n",
       " '10-2010': 217161824.02,\n",
       " '11-2010': 202853370.14,\n",
       " '12-2010': 288760532.72,\n",
       " '01-2010': 0.0,\n",
       " '02-2011': 186331327.87,\n",
       " '03-2011': 179356448.29000002,\n",
       " '04-2011': 226526510.97,\n",
       " '05-2011': 181648158.16,\n",
       " '06-2011': 189773385.19,\n",
       " '07-2011': 229911398.87,\n",
       " '08-2011': 188599332.25,\n",
       " '09-2011': 220847738.42000002,\n",
       " '10-2011': 183261283.14999998,\n",
       " '11-2011': 210162354.87,\n",
       " '12-2011': 288078102.48,\n",
       " '01-2011': 163703966.82999998,\n",
       " '02-2012': 192063579.54000002,\n",
       " '03-2012': 231509650.49,\n",
       " '04-2012': 188920905.95,\n",
       " '05-2012': 188766479.45,\n",
       " '06-2012': 240610329.28999996,\n",
       " '07-2012': 187509452.39999998,\n",
       " '08-2012': 236850765.68,\n",
       " '09-2012': 180645544.47,\n",
       " '10-2012': 184361680.42000002,\n",
       " '11-2012': 0.0,\n",
       " '12-2012': 0.0,\n",
       " '01-2012': 168894471.66}"
      ]
     },
     "execution_count": 31,
     "metadata": {},
     "output_type": "execute_result"
    }
   ],
   "source": [
    "monthly_sales"
   ]
  },
  {
   "cell_type": "markdown",
   "metadata": {},
   "source": [
    "### Insight : the maximum sales in both year 2010 and  2011 are found in the month of december..may be because these are the closing dates and stores provide the maximum sales in these months. Moreover due to christmas and new year people purchase more goods."
   ]
  },
  {
   "cell_type": "code",
   "execution_count": 32,
   "metadata": {},
   "outputs": [],
   "source": [
    "# calculating half yearly sales. Due to the data constraints the last value if from August 2012 to October 2012 only i.e 3 months\n",
    "half_yearly_sales = {}\n",
    "half_yearly_sales[\"Feb-2010 to July-2010\"] = monthly_sales[\"02-2010\"]+monthly_sales[\"03-2010\"]+monthly_sales[\"04-2010\"]+monthly_sales[\"05-2010\"]+monthly_sales[\"06-2010\"]+monthly_sales[\"07-2010\"]\n",
    "half_yearly_sales[\"Aug-2010 to Jan-2011\"] = monthly_sales[\"08-2010\"]+monthly_sales[\"09-2010\"]+monthly_sales[\"10-2010\"]+monthly_sales[\"11-2010\"]+monthly_sales[\"12-2010\"]+monthly_sales[\"01-2011\"]\n",
    "half_yearly_sales[\"Feb-2011 to July-2011\"] = monthly_sales[\"02-2011\"]+monthly_sales[\"03-2011\"]+monthly_sales[\"04-2011\"]+monthly_sales[\"05-2011\"]+monthly_sales[\"06-2011\"]+monthly_sales[\"07-2011\"]\n",
    "half_yearly_sales[\"Aug-2011 to jan-2012\"] = monthly_sales[\"08-2011\"]+monthly_sales[\"09-2011\"]+monthly_sales[\"10-2011\"]+monthly_sales[\"11-2011\"]+monthly_sales[\"12-2011\"]+monthly_sales[\"01-2012\"]\n",
    "half_yearly_sales[\"Feb-2012 to July-2012\"] = monthly_sales[\"02-2012\"]+monthly_sales[\"03-2012\"]+monthly_sales[\"04-2012\"]+monthly_sales[\"05-2012\"]+monthly_sales[\"06-2012\"]+monthly_sales[\"07-2012\"]\n",
    "half_yearly_sales[\"Aug-2012 to Oct-2012\"] = monthly_sales[\"08-2012\"]+monthly_sales[\"09-2012\"]+monthly_sales[\"10-2012\"]"
   ]
  },
  {
   "cell_type": "code",
   "execution_count": 33,
   "metadata": {},
   "outputs": [
    {
     "data": {
      "text/plain": [
       "{'Feb-2010 to July-2010': 1215202386.27,\n",
       " 'Aug-2010 to Jan-2011': 1237387700.97,\n",
       " 'Feb-2011 to July-2011': 1193547229.35,\n",
       " 'Aug-2011 to jan-2012': 1259843282.8300002,\n",
       " 'Feb-2012 to July-2012': 1229380397.12,\n",
       " 'Aug-2012 to Oct-2012': 601857990.5699999}"
      ]
     },
     "execution_count": 33,
     "metadata": {},
     "output_type": "execute_result"
    }
   ],
   "source": [
    "half_yearly_sales"
   ]
  },
  {
   "cell_type": "markdown",
   "metadata": {},
   "source": [
    "# Statistical Model"
   ]
  },
  {
   "cell_type": "markdown",
   "metadata": {},
   "source": [
    "## For store 2 develop Linear Regression model– Utilize variables like date and restructure dates as 1 for 5 Feb 2010 (starting from the earliest date in order). Hypothesize if CPI, unemployment, and fuel price have any impact on sales. "
   ]
  },
  {
   "cell_type": "code",
   "execution_count": 36,
   "metadata": {},
   "outputs": [],
   "source": [
    "# making the dataframe that contains entries of store 2 only\n",
    "store2 = df[df[\"Store\"] == 2]"
   ]
  },
  {
   "cell_type": "code",
   "execution_count": 37,
   "metadata": {},
   "outputs": [
    {
     "data": {
      "text/html": [
       "<div>\n",
       "<style scoped>\n",
       "    .dataframe tbody tr th:only-of-type {\n",
       "        vertical-align: middle;\n",
       "    }\n",
       "\n",
       "    .dataframe tbody tr th {\n",
       "        vertical-align: top;\n",
       "    }\n",
       "\n",
       "    .dataframe thead th {\n",
       "        text-align: right;\n",
       "    }\n",
       "</style>\n",
       "<table border=\"1\" class=\"dataframe\">\n",
       "  <thead>\n",
       "    <tr style=\"text-align: right;\">\n",
       "      <th></th>\n",
       "      <th>Store</th>\n",
       "      <th>Date</th>\n",
       "      <th>Weekly_Sales</th>\n",
       "      <th>Holiday_Flag</th>\n",
       "      <th>Temperature</th>\n",
       "      <th>Fuel_Price</th>\n",
       "      <th>CPI</th>\n",
       "      <th>Unemployment</th>\n",
       "      <th>Month</th>\n",
       "      <th>Year</th>\n",
       "    </tr>\n",
       "  </thead>\n",
       "  <tbody>\n",
       "    <tr>\n",
       "      <th>143</th>\n",
       "      <td>2</td>\n",
       "      <td>05-02-2010</td>\n",
       "      <td>2136989.46</td>\n",
       "      <td>0</td>\n",
       "      <td>40.19</td>\n",
       "      <td>2.572</td>\n",
       "      <td>210.752605</td>\n",
       "      <td>8.324</td>\n",
       "      <td>02</td>\n",
       "      <td>2010</td>\n",
       "    </tr>\n",
       "    <tr>\n",
       "      <th>144</th>\n",
       "      <td>2</td>\n",
       "      <td>12-02-2010</td>\n",
       "      <td>2137809.50</td>\n",
       "      <td>1</td>\n",
       "      <td>38.49</td>\n",
       "      <td>2.548</td>\n",
       "      <td>210.897994</td>\n",
       "      <td>8.324</td>\n",
       "      <td>02</td>\n",
       "      <td>2010</td>\n",
       "    </tr>\n",
       "    <tr>\n",
       "      <th>145</th>\n",
       "      <td>2</td>\n",
       "      <td>19-02-2010</td>\n",
       "      <td>2124451.54</td>\n",
       "      <td>0</td>\n",
       "      <td>39.69</td>\n",
       "      <td>2.514</td>\n",
       "      <td>210.945160</td>\n",
       "      <td>8.324</td>\n",
       "      <td>02</td>\n",
       "      <td>2010</td>\n",
       "    </tr>\n",
       "    <tr>\n",
       "      <th>146</th>\n",
       "      <td>2</td>\n",
       "      <td>26-02-2010</td>\n",
       "      <td>1865097.27</td>\n",
       "      <td>0</td>\n",
       "      <td>46.10</td>\n",
       "      <td>2.561</td>\n",
       "      <td>210.975957</td>\n",
       "      <td>8.324</td>\n",
       "      <td>02</td>\n",
       "      <td>2010</td>\n",
       "    </tr>\n",
       "    <tr>\n",
       "      <th>147</th>\n",
       "      <td>2</td>\n",
       "      <td>05-03-2010</td>\n",
       "      <td>1991013.13</td>\n",
       "      <td>0</td>\n",
       "      <td>47.17</td>\n",
       "      <td>2.625</td>\n",
       "      <td>211.006754</td>\n",
       "      <td>8.324</td>\n",
       "      <td>03</td>\n",
       "      <td>2010</td>\n",
       "    </tr>\n",
       "  </tbody>\n",
       "</table>\n",
       "</div>"
      ],
      "text/plain": [
       "     Store        Date  Weekly_Sales  Holiday_Flag  Temperature  Fuel_Price  \\\n",
       "143      2  05-02-2010    2136989.46             0        40.19       2.572   \n",
       "144      2  12-02-2010    2137809.50             1        38.49       2.548   \n",
       "145      2  19-02-2010    2124451.54             0        39.69       2.514   \n",
       "146      2  26-02-2010    1865097.27             0        46.10       2.561   \n",
       "147      2  05-03-2010    1991013.13             0        47.17       2.625   \n",
       "\n",
       "            CPI  Unemployment Month  Year  \n",
       "143  210.752605         8.324    02  2010  \n",
       "144  210.897994         8.324    02  2010  \n",
       "145  210.945160         8.324    02  2010  \n",
       "146  210.975957         8.324    02  2010  \n",
       "147  211.006754         8.324    03  2010  "
      ]
     },
     "execution_count": 37,
     "metadata": {},
     "output_type": "execute_result"
    }
   ],
   "source": [
    "store2.head()"
   ]
  },
  {
   "cell_type": "code",
   "execution_count": 39,
   "metadata": {},
   "outputs": [],
   "source": [
    "# importing the required libraries\n",
    "from sklearn.model_selection import train_test_split\n",
    "from sklearn.linear_model import LinearRegression"
   ]
  },
  {
   "cell_type": "code",
   "execution_count": 41,
   "metadata": {},
   "outputs": [],
   "source": [
    "# reshape using numpy.\n",
    "y = store2[\"Weekly_Sales\"].values.reshape(-1,1)"
   ]
  },
  {
   "cell_type": "code",
   "execution_count": 42,
   "metadata": {},
   "outputs": [
    {
     "name": "stdout",
     "output_type": "stream",
     "text": [
      "[[2136989.46]\n",
      " [2137809.5 ]\n",
      " [2124451.54]\n",
      " [1865097.27]\n",
      " [1991013.13]\n",
      " [1990483.78]\n",
      " [1946070.88]\n",
      " [1750197.81]\n",
      " [2066187.72]\n",
      " [1954689.21]\n",
      " [1874957.94]\n",
      " [1821990.93]\n",
      " [1802450.29]\n",
      " [2042581.71]\n",
      " [1880752.36]\n",
      " [1896937.1 ]\n",
      " [1957113.89]\n",
      " [2102539.93]\n",
      " [2025538.76]\n",
      " [2001636.96]\n",
      " [1939927.09]\n",
      " [2003940.64]\n",
      " [1880902.62]\n",
      " [1845879.79]\n",
      " [1781717.71]\n",
      " [1804246.16]\n",
      " [1991909.98]\n",
      " [1895601.05]\n",
      " [1964335.23]\n",
      " [1863840.49]\n",
      " [1904608.09]\n",
      " [1839128.83]\n",
      " [1793903.6 ]\n",
      " [1724557.22]\n",
      " [1827440.43]\n",
      " [1849921.44]\n",
      " [1794355.49]\n",
      " [1737947.64]\n",
      " [1802755.11]\n",
      " [1939061.41]\n",
      " [1916812.74]\n",
      " [1956739.17]\n",
      " [2658725.29]\n",
      " [2015781.27]\n",
      " [2378726.55]\n",
      " [2609166.75]\n",
      " [3436007.68]\n",
      " [1750434.55]\n",
      " [1758050.79]\n",
      " [1744193.58]\n",
      " [1751384.9 ]\n",
      " [1695371.68]\n",
      " [1929346.23]\n",
      " [2168041.61]\n",
      " [2080884.82]\n",
      " [1833511.08]\n",
      " [1981607.78]\n",
      " [1879107.31]\n",
      " [1902557.66]\n",
      " [1766162.05]\n",
      " [1800171.36]\n",
      " [1847552.61]\n",
      " [1856467.84]\n",
      " [1886339.6 ]\n",
      " [1745545.28]\n",
      " [1837743.6 ]\n",
      " [1838513.07]\n",
      " [1688281.86]\n",
      " [1797732.56]\n",
      " [1933756.21]\n",
      " [1929153.16]\n",
      " [1953771.99]\n",
      " [1790925.8 ]\n",
      " [1866243.  ]\n",
      " [1853161.99]\n",
      " [1785187.29]\n",
      " [1743816.41]\n",
      " [1680693.06]\n",
      " [1876704.26]\n",
      " [1812768.26]\n",
      " [1844094.59]\n",
      " [1821139.91]\n",
      " [1809119.7 ]\n",
      " [1748000.65]\n",
      " [1691439.52]\n",
      " [1669299.78]\n",
      " [1650394.44]\n",
      " [1837553.43]\n",
      " [1743882.19]\n",
      " [1834680.25]\n",
      " [1769296.25]\n",
      " [1959707.9 ]\n",
      " [1920725.15]\n",
      " [1902762.5 ]\n",
      " [2614202.3 ]\n",
      " [1954952.  ]\n",
      " [2290549.32]\n",
      " [2432736.52]\n",
      " [3224369.8 ]\n",
      " [1874226.52]\n",
      " [1799520.14]\n",
      " [1744725.48]\n",
      " [1711769.11]\n",
      " [1660906.14]\n",
      " [1935299.94]\n",
      " [2103322.68]\n",
      " [2196688.46]\n",
      " [1861802.7 ]\n",
      " [1952555.66]\n",
      " [1937628.26]\n",
      " [1976082.13]\n",
      " [1790439.16]\n",
      " [1857480.84]\n",
      " [2129035.91]\n",
      " [1935869.1 ]\n",
      " [1847344.45]\n",
      " [1764133.09]\n",
      " [1923957.09]\n",
      " [1917520.99]\n",
      " [2000940.67]\n",
      " [1912791.09]\n",
      " [1910092.37]\n",
      " [2010216.49]\n",
      " [1962924.3 ]\n",
      " [1887733.21]\n",
      " [1881046.12]\n",
      " [2041507.4 ]\n",
      " [1830075.13]\n",
      " [1819666.46]\n",
      " [1757923.88]\n",
      " [1946104.64]\n",
      " [1866719.96]\n",
      " [1928016.01]\n",
      " [1876788.15]\n",
      " [1947083.3 ]\n",
      " [1898777.07]\n",
      " [1814806.63]\n",
      " [1829415.67]\n",
      " [1746470.56]\n",
      " [1998321.04]\n",
      " [1900745.13]\n",
      " [1847990.41]\n",
      " [1834458.35]]\n"
     ]
    }
   ],
   "source": [
    "print(y)"
   ]
  },
  {
   "cell_type": "code",
   "execution_count": 43,
   "metadata": {},
   "outputs": [],
   "source": [
    "# features\n",
    "X = store2.iloc[:,3:8].values"
   ]
  },
  {
   "cell_type": "code",
   "execution_count": 44,
   "metadata": {},
   "outputs": [
    {
     "name": "stdout",
     "output_type": "stream",
     "text": [
      "[[  0.         40.19        2.572     210.7526053   8.324    ]\n",
      " [  1.         38.49        2.548     210.8979935   8.324    ]\n",
      " [  0.         39.69        2.514     210.9451605   8.324    ]\n",
      " [  0.         46.1         2.561     210.9759573   8.324    ]\n",
      " [  0.         47.17        2.625     211.0067542   8.324    ]\n",
      " [  0.         57.56        2.667     211.037551    8.324    ]\n",
      " [  0.         54.52        2.72      210.8733316   8.324    ]\n",
      " [  0.         51.26        2.732     210.6766095   8.324    ]\n",
      " [  0.         63.27        2.719     210.4798874   8.2      ]\n",
      " [  0.         65.41        2.77      210.2831653   8.2      ]\n",
      " [  0.         68.07        2.808     210.1495463   8.2      ]\n",
      " [  0.         65.11        2.795     210.1000648   8.2      ]\n",
      " [  0.         66.98        2.78      210.0505833   8.2      ]\n",
      " [  0.         71.28        2.835     210.0011018   8.2      ]\n",
      " [  0.         73.31        2.854     209.9984585   8.2      ]\n",
      " [  0.         74.83        2.826     210.2768443   8.2      ]\n",
      " [  0.         81.13        2.759     210.5552301   8.2      ]\n",
      " [  0.         81.81        2.705     210.833616    8.2      ]\n",
      " [  0.         83.4         2.668     211.1120018   8.2      ]\n",
      " [  0.         85.81        2.637     211.1096543   8.2      ]\n",
      " [  0.         86.26        2.653     210.9950134   8.2      ]\n",
      " [  0.         82.74        2.669     210.8803726   8.099    ]\n",
      " [  0.         82.59        2.642     210.7657317   8.099    ]\n",
      " [  0.         85.32        2.623     210.7577954   8.099    ]\n",
      " [  0.         87.66        2.608     210.8921319   8.099    ]\n",
      " [  0.         83.49        2.64      211.0264684   8.099    ]\n",
      " [  0.         89.53        2.627     211.1608049   8.099    ]\n",
      " [  0.         89.05        2.692     211.2951413   8.099    ]\n",
      " [  0.         88.7         2.664     211.2596586   8.099    ]\n",
      " [  0.         87.12        2.619     211.2241759   8.099    ]\n",
      " [  0.         81.83        2.577     211.1886931   8.099    ]\n",
      " [  1.         79.09        2.565     211.1532104   8.099    ]\n",
      " [  0.         82.05        2.582     211.1806415   8.099    ]\n",
      " [  0.         81.79        2.624     211.2552578   8.099    ]\n",
      " [  0.         69.24        2.603     211.3298742   8.163    ]\n",
      " [  0.         63.19        2.633     211.4044906   8.163    ]\n",
      " [  0.         65.8         2.72      211.4713286   8.163    ]\n",
      " [  0.         68.5         2.725     211.5187208   8.163    ]\n",
      " [  0.         66.24        2.716     211.5661131   8.163    ]\n",
      " [  0.         57.85        2.689     211.6135053   8.163    ]\n",
      " [  0.         59.69        2.728     211.6608975   8.163    ]\n",
      " [  0.         50.81        2.771     211.5470304   8.163    ]\n",
      " [  1.         62.98        2.735     211.4062867   8.163    ]\n",
      " [  0.         49.33        2.708     211.265543    8.163    ]\n",
      " [  0.         45.5         2.843     211.1247993   8.163    ]\n",
      " [  0.         47.55        2.869     211.0645458   8.163    ]\n",
      " [  0.         49.97        2.886     211.0646599   8.163    ]\n",
      " [  1.         47.3         2.943     211.064774    8.163    ]\n",
      " [  0.         44.69        2.976     211.0648881   8.028    ]\n",
      " [  0.         33.02        2.983     211.1176713   8.028    ]\n",
      " [  0.         41.4         3.016     211.4864691   8.028    ]\n",
      " [  0.         42.83        3.01      211.8552668   8.028    ]\n",
      " [  0.         38.25        2.989     212.2240646   8.028    ]\n",
      " [  1.         33.19        3.022     212.5928624   8.028    ]\n",
      " [  0.         57.83        3.045     212.9033115   8.028    ]\n",
      " [  0.         60.8         3.065     213.190421    8.028    ]\n",
      " [  0.         57.77        3.288     213.4775305   8.028    ]\n",
      " [  0.         52.7         3.459     213.7646401   8.028    ]\n",
      " [  0.         62.32        3.488     214.0156238   8.028    ]\n",
      " [  0.         69.42        3.473     214.2521573   8.028    ]\n",
      " [  0.         55.43        3.524     214.4886908   7.931    ]\n",
      " [  0.         67.          3.622     214.7252242   7.931    ]\n",
      " [  0.         69.48        3.743     214.9420631   7.931    ]\n",
      " [  0.         69.39        3.807     215.1096657   7.931    ]\n",
      " [  0.         69.21        3.81      215.2772683   7.931    ]\n",
      " [  0.         61.48        3.906     215.4448709   7.931    ]\n",
      " [  0.         74.61        3.899     215.6124735   7.931    ]\n",
      " [  0.         67.14        3.907     215.3834778   7.931    ]\n",
      " [  0.         76.42        3.786     215.1544822   7.931    ]\n",
      " [  0.         83.07        3.699     214.9254865   7.931    ]\n",
      " [  0.         83.4         3.648     214.6964908   7.931    ]\n",
      " [  0.         86.53        3.637     214.6513538   7.931    ]\n",
      " [  0.         85.17        3.594     214.7441108   7.931    ]\n",
      " [  0.         85.69        3.524     214.8368678   7.852    ]\n",
      " [  0.         87.7         3.48      214.9296249   7.852    ]\n",
      " [  0.         89.83        3.575     215.0134426   7.852    ]\n",
      " [  0.         89.34        3.651     215.0749122   7.852    ]\n",
      " [  0.         90.07        3.682     215.1363819   7.852    ]\n",
      " [  0.         93.34        3.684     215.1978515   7.852    ]\n",
      " [  0.         91.58        3.638     215.2593211   7.852    ]\n",
      " [  0.         89.86        3.554     215.3229307   7.852    ]\n",
      " [  0.         90.45        3.523     215.386897    7.852    ]\n",
      " [  0.         89.64        3.533     215.4508632   7.852    ]\n",
      " [  1.         77.97        3.546     215.5148295   7.852    ]\n",
      " [  0.         78.85        3.526     215.6944378   7.852    ]\n",
      " [  0.         75.58        3.467     216.0282356   7.852    ]\n",
      " [  0.         78.14        3.355     216.3620333   7.852    ]\n",
      " [  0.         69.92        3.285     216.6958311   7.441    ]\n",
      " [  0.         71.67        3.274     217.0048261   7.441    ]\n",
      " [  0.         64.53        3.353     217.1650042   7.441    ]\n",
      " [  0.         65.87        3.372     217.3251824   7.441    ]\n",
      " [  0.         55.53        3.332     217.4853605   7.441    ]\n",
      " [  0.         59.33        3.297     217.6455387   7.441    ]\n",
      " [  0.         62.01        3.308     217.8670218   7.441    ]\n",
      " [  1.         56.36        3.236     218.1130269   7.441    ]\n",
      " [  0.         48.74        3.172     218.3590319   7.441    ]\n",
      " [  0.         41.76        3.158     218.605037    7.441    ]\n",
      " [  0.         50.13        3.159     218.8217928   7.441    ]\n",
      " [  0.         46.66        3.112     218.9995495   7.441    ]\n",
      " [  1.         44.57        3.129     219.1773063   7.441    ]\n",
      " [  0.         46.75        3.157     219.355063    7.057    ]\n",
      " [  0.         45.99        3.261     219.5328198   7.057    ]\n",
      " [  0.         51.7         3.268     219.6258417   7.057    ]\n",
      " [  0.         50.5         3.29      219.7188636   7.057    ]\n",
      " [  0.         55.21        3.36      219.8118854   7.057    ]\n",
      " [  1.         46.98        3.409     219.9049073   7.057    ]\n",
      " [  0.         43.82        3.51      220.0651993   7.057    ]\n",
      " [  0.         54.63        3.555     220.275944    7.057    ]\n",
      " [  0.         58.79        3.63      220.4866886   7.057    ]\n",
      " [  0.         57.11        3.669     220.6974332   7.057    ]\n",
      " [  0.         63.68        3.734     220.8498468   7.057    ]\n",
      " [  0.         64.01        3.787     220.9244858   7.057    ]\n",
      " [  0.         66.83        3.845     220.9991248   7.057    ]\n",
      " [  0.         68.43        3.891     221.0737638   6.891    ]\n",
      " [  0.         68.08        3.891     221.1484028   6.891    ]\n",
      " [  0.         65.69        3.877     221.2021074   6.891    ]\n",
      " [  0.         67.2         3.814     221.255812    6.891    ]\n",
      " [  0.         76.73        3.749     221.3095166   6.891    ]\n",
      " [  0.         73.87        3.688     221.3632212   6.891    ]\n",
      " [  0.         71.27        3.63      221.380331    6.891    ]\n",
      " [  0.         78.19        3.561     221.3828029   6.891    ]\n",
      " [  0.         78.38        3.501     221.3852748   6.891    ]\n",
      " [  0.         78.69        3.452     221.3877467   6.891    ]\n",
      " [  0.         80.56        3.393     221.4009901   6.891    ]\n",
      " [  0.         81.04        3.346     221.4411622   6.891    ]\n",
      " [  0.         86.32        3.286     221.4813343   6.891    ]\n",
      " [  0.         84.2         3.227     221.5215064   6.565    ]\n",
      " [  0.         80.17        3.256     221.5616784   6.565    ]\n",
      " [  0.         83.23        3.311     221.5701123   6.565    ]\n",
      " [  0.         86.37        3.407     221.5785461   6.565    ]\n",
      " [  0.         90.22        3.417     221.5869799   6.565    ]\n",
      " [  0.         88.55        3.494     221.5954138   6.565    ]\n",
      " [  0.         84.79        3.571     221.6751459   6.565    ]\n",
      " [  0.         76.91        3.62      221.8083518   6.565    ]\n",
      " [  0.         82.64        3.638     221.9415576   6.565    ]\n",
      " [  1.         87.65        3.73      222.0747635   6.565    ]\n",
      " [  0.         75.88        3.717     222.2174395   6.565    ]\n",
      " [  0.         71.09        3.721     222.4169362   6.565    ]\n",
      " [  0.         79.45        3.666     222.6164329   6.565    ]\n",
      " [  0.         70.27        3.617     222.8159296   6.17     ]\n",
      " [  0.         60.97        3.601     223.0154263   6.17     ]\n",
      " [  0.         68.08        3.594     223.0598077   6.17     ]\n",
      " [  0.         69.79        3.506     223.0783366   6.17     ]]\n"
     ]
    }
   ],
   "source": [
    "print(X)"
   ]
  },
  {
   "cell_type": "code",
   "execution_count": 46,
   "metadata": {},
   "outputs": [],
   "source": [
    "# making the object of class implementing Linear Regression \n",
    "model = LinearRegression()"
   ]
  },
  {
   "cell_type": "code",
   "execution_count": 47,
   "metadata": {},
   "outputs": [],
   "source": [
    "# splitting the dataset into 80-20 format\n",
    "XTrain,XTest,YTrain,YTest = train_test_split(X,y,test_size = 0.2,random_state = 0)"
   ]
  },
  {
   "cell_type": "code",
   "execution_count": 48,
   "metadata": {},
   "outputs": [
    {
     "name": "stdout",
     "output_type": "stream",
     "text": [
      "(114, 5)\n",
      "(114, 1)\n"
     ]
    }
   ],
   "source": [
    "print(XTrain.shape)\n",
    "print(YTrain.shape)"
   ]
  },
  {
   "cell_type": "code",
   "execution_count": 50,
   "metadata": {},
   "outputs": [
    {
     "data": {
      "text/plain": [
       "LinearRegression(copy_X=True, fit_intercept=True, n_jobs=None, normalize=False)"
      ]
     },
     "execution_count": 50,
     "metadata": {},
     "output_type": "execute_result"
    }
   ],
   "source": [
    "# training (i.e fitting the line)\n",
    "model.fit(XTrain,YTrain)"
   ]
  },
  {
   "cell_type": "code",
   "execution_count": 51,
   "metadata": {},
   "outputs": [
    {
     "name": "stdout",
     "output_type": "stream",
     "text": [
      "[[1946426.32066277]\n",
      " [1879951.40417502]\n",
      " [1882260.89155458]\n",
      " [1909126.59112045]\n",
      " [1892200.14285578]\n",
      " [1997585.75845128]\n",
      " [1927578.52051966]\n",
      " [1813000.5457226 ]\n",
      " [1833659.49252555]\n",
      " [1999323.51369375]\n",
      " [2071612.75963028]\n",
      " [1896266.45746001]\n",
      " [1928436.96804825]\n",
      " [2092813.80122205]\n",
      " [1818429.20917997]\n",
      " [1925316.57926143]\n",
      " [1871939.28466764]\n",
      " [1904079.49057578]\n",
      " [1901651.0150834 ]\n",
      " [1896505.41482992]\n",
      " [1811046.25035841]\n",
      " [1953992.22854554]\n",
      " [1881372.17767078]\n",
      " [1902070.30684743]\n",
      " [1818201.52222804]\n",
      " [1930985.06653398]\n",
      " [1824031.3024909 ]\n",
      " [1969032.74561768]\n",
      " [1961000.05765377]]\n"
     ]
    }
   ],
   "source": [
    "# prediction over the unseen testing data\n",
    "y_prediction = model.predict(XTest)\n",
    "print(y_prediction)"
   ]
  },
  {
   "cell_type": "code",
   "execution_count": 52,
   "metadata": {},
   "outputs": [
    {
     "name": "stdout",
     "output_type": "stream",
     "text": [
      "[[  58401.325891     -2238.23488176 -257714.5342688    54515.96326202\n",
      "   281398.25517897]]\n"
     ]
    }
   ],
   "source": [
    "# coefficients of different features in the hypothesis\n",
    "print(model.coef_)"
   ]
  },
  {
   "cell_type": "markdown",
   "metadata": {},
   "source": [
    "### The coefficients that are positive signifies that, as the value of the feature corresponding to this coefficient increases the value of dependent variable increases (i.e. sales in this case and vice versa.\n",
    "### Similarly high value of the coefficient means the feature corresponding to this coefficient is more related to the dependent variable( i.e. sales in this case) and vice versa.\n",
    "\n",
    "#### Therefore Holiday flag have positive coefficient with value 58401.325\n",
    "#### Therefore Temperature have negative coefficient with value 2238.234\n",
    "#### Therefore Fuel Price have negative coefficient with value 257714.534\n",
    "#### Therefore CPI have positive coefficient with value 54515.963\n",
    "#### Therefore Unemployment have positive coefficient with value 281398.255"
   ]
  },
  {
   "cell_type": "markdown",
   "metadata": {},
   "source": [
    "# THANK YOU"
   ]
  },
  {
   "cell_type": "code",
   "execution_count": null,
   "metadata": {},
   "outputs": [],
   "source": []
  }
 ],
 "metadata": {
  "kernelspec": {
   "display_name": "Python 3",
   "language": "python",
   "name": "python3"
  },
  "language_info": {
   "codemirror_mode": {
    "name": "ipython",
    "version": 3
   },
   "file_extension": ".py",
   "mimetype": "text/x-python",
   "name": "python",
   "nbconvert_exporter": "python",
   "pygments_lexer": "ipython3",
   "version": "3.7.0"
  }
 },
 "nbformat": 4,
 "nbformat_minor": 4
}
